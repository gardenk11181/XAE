{
 "cells": [
  {
   "cell_type": "markdown",
   "metadata": {},
   "source": [
    "## Model Training"
   ]
  },
  {
   "cell_type": "code",
   "execution_count": 1,
   "metadata": {},
   "outputs": [],
   "source": [
    "import os, sys, time, logging, configparser\n",
    "sys.path.append('/'.join(os.getcwd().split('/')[:-2]))\n",
    "sys.path.append('/'.join(os.getcwd().split('/')))\n",
    "import warnings\n",
    "warnings.filterwarnings(\"ignore\")\n",
    "os.environ['CUDA_VISIBLE_DEVICES']='1'\n",
    "from XAE.dataset import rmMNIST\n",
    "from XAE.util import init_params, calculate_sharpness\n",
    "from XAE.sampler import gaus\n",
    "from XAE.logging_daily import logging_daily\n",
    "import XAE.fid as fid\n",
    "\n",
    "import torch\n",
    "import torch.nn as nn\n",
    "\n",
    "import numpy as np\n",
    "import matplotlib.pyplot as plt\n",
    "%matplotlib inline\n",
    "\n",
    "from importlib import import_module\n",
    "from random import sample"
   ]
  },
  {
   "cell_type": "code",
   "execution_count": 2,
   "metadata": {},
   "outputs": [],
   "source": [
    "is_cuda = torch.cuda.is_available()\n",
    "device = torch.device('cuda' if is_cuda else 'cpu')\n",
    "\n",
    "logger = logging_daily('./config/log_info.yaml')\n",
    "log = logger.get_logging()\n",
    "log.setLevel(logging.INFO)\n",
    "\n",
    "cfg = configparser.ConfigParser()\n",
    "cfg.read('./config/train_config.cfg')\n",
    "\n",
    "cur_model = getattr(import_module('train'), cfg['train_info']['model_name'])"
   ]
  },
  {
   "cell_type": "code",
   "execution_count": 3,
   "metadata": {},
   "outputs": [
    {
     "name": "stderr",
     "output_type": "stream",
     "text": [
      "[default |INFO|_base_model.py:25] ------------------------------------------------------------\n",
      "[default |INFO|_base_model.py:27] model_name : SSWAE_HSIC_MNIST\n",
      "[default |INFO|_base_model.py:27] train_data : rmMNIST\n",
      "[default |INFO|_base_model.py:27] train_data_label : True\n",
      "[default |INFO|_base_model.py:27] z_sampler : gaus\n",
      "[default |INFO|_base_model.py:27] z_dim : 6\n",
      "[default |INFO|_base_model.py:27] yz_dim : 2\n",
      "[default |INFO|_base_model.py:27] y_sampler : multinomial\n",
      "[default |INFO|_base_model.py:27] y_dim : 7\n",
      "[default |INFO|_base_model.py:27] labeled_class : 0,2,4,6,8,9\n",
      "[default |INFO|_base_model.py:27] unlabeled_class : 1,3,7\n",
      "[default |INFO|_base_model.py:27] test_class : 5\n",
      "[default |INFO|_base_model.py:27] classification_weight : \n",
      "[default |INFO|_base_model.py:27] encoder_pretrain : False\n",
      "[default |INFO|_base_model.py:27] lr : 5e-4\n",
      "[default |INFO|_base_model.py:27] beta1 : 0.5\n",
      "[default |INFO|_base_model.py:27] lr_adv : 2e-4\n",
      "[default |INFO|_base_model.py:27] beta1_adv : 0.5\n",
      "[default |INFO|_base_model.py:27] lambda : 10.0\n",
      "[default |INFO|_base_model.py:27] lambda2 : 10.0\n",
      "[default |INFO|_base_model.py:27] lambda_mmd : 10.0\n",
      "[default |INFO|_base_model.py:27] lambda_hsic : 10.0\n",
      "[default |INFO|_base_model.py:27] lr_schedule : manual\n",
      "[default |INFO|_base_model.py:27] validate : True\n",
      "[default |INFO|_base_model.py:27] histogram : True\n",
      "[default |INFO|_base_model.py:27] batch_size2 : 100\n",
      "[default |INFO|_base_model.py:27] epoch : 3\n",
      "[default |INFO|_base_model.py:27] replace : False\n",
      "[default |INFO|_base_model.py:27] iter_per_epoch : None\n",
      "[default |INFO|_base_model.py:27] save_best : False\n",
      "[default |INFO|_base_model.py:30] data_home2 : /home/reddragon/data/MNIST\n",
      "[default |INFO|_base_model.py:30] tb_logs : \n",
      "[default |INFO|_base_model.py:30] save_path : ./weight.pt\n",
      "[default |INFO|_base_model.py:30] save_state : ./state.pt\n",
      "[default |INFO|_base_model.py:30] save_img_path : ./plot\n",
      "[default |INFO|model.py:2087] ------------------------------------------------------------\n",
      "[default |INFO|model.py:2088] Training Start!\n"
     ]
    },
    {
     "name": "stdout",
     "output_type": "stream",
     "text": [
      "[100/100]  test_main: 0.2100  test_main2: 0.3440  test_penalty: 0.6993  test_penalty2: 0.1473  test_penalty3: 0.0175.0069\r"
     ]
    },
    {
     "name": "stderr",
     "output_type": "stream",
     "text": [
      "[default |INFO|model.py:2203] [1/3]  train_main: 2.622939e-01  train_penalty: 6.928055e-01  train_main2: 0.5307  train_penalty: 6.928055e-01  train_penalty: 2.462251e-01  train_penalty: 6.913651e-03\n",
      "test_main: 2.099675e-01  test_main2: 3.440172e-01  test_penalty: 6.993048e-01  test_penalty: 1.472752e-01  test_penalty: 1.750266e-02\n"
     ]
    },
    {
     "name": "stdout",
     "output_type": "stream",
     "text": [
      "[100/100]  test_main: 0.1829  test_main2: 0.2611  test_penalty: 0.7088  test_penalty2: -0.0062  test_penalty3: 0.02370247\r"
     ]
    },
    {
     "name": "stderr",
     "output_type": "stream",
     "text": [
      "[default |INFO|model.py:2203] [2/3]  train_main: 1.891799e-01  train_penalty: 6.954678e-01  train_main2: 0.3018  train_penalty: 6.954678e-01  train_penalty: 3.034922e-02  train_penalty: 2.468641e-02\n",
      "test_main: 1.829361e-01  test_main2: 2.610635e-01  test_penalty: 7.088126e-01  test_penalty: -6.219082e-03  test_penalty: 2.367693e-02\n"
     ]
    },
    {
     "name": "stdout",
     "output_type": "stream",
     "text": [
      "[097/100]  test_main: 0.1823  test_main2: 0.2063  test_penalty: 0.6819  test_penalty2: -0.0085  test_penalty3: 0.0424.0291\r"
     ]
    },
    {
     "name": "stderr",
     "output_type": "stream",
     "text": [
      "[default |INFO|model.py:2203] [3/3]  train_main: 1.740267e-01  train_penalty: 7.026437e-01  train_main2: 0.2324  train_penalty: 7.026437e-01  train_penalty: -6.281163e-03  train_penalty: 2.905569e-02\n",
      "test_main: 1.825309e-01  test_main2: 2.066632e-01  test_penalty: 6.818977e-01  test_penalty: -8.408165e-03  test_penalty: 4.239031e-02\n"
     ]
    },
    {
     "name": "stdout",
     "output_type": "stream",
     "text": [
      "[100/100]  test_main: 0.1825  test_main2: 0.2067  test_penalty: 0.6819  test_penalty2: -0.0084  test_penalty3: 0.0424\r"
     ]
    },
    {
     "name": "stderr",
     "output_type": "stream",
     "text": [
      "[default |INFO|model.py:2273] Training Finished!\n",
      "[default |INFO|model.py:2274] Elapsed time: 180.985s\n"
     ]
    }
   ],
   "source": [
    "mm = cur_model(cfg, log, device = device)\n",
    "mm.train()"
   ]
  },
  {
   "cell_type": "markdown",
   "metadata": {},
   "source": [
    "## Training history plot"
   ]
  },
  {
   "cell_type": "code",
   "execution_count": 4,
   "metadata": {},
   "outputs": [
    {
     "data": {
      "image/png": "[encoded data removed]",
      "text/plain": [
       "<Figure size 432x288 with 1 Axes>"
      ]
     },
     "metadata": {
      "needs_background": "light"
     },
     "output_type": "display_data"
    }
   ],
   "source": [
    "all_stats = mm.hist.transpose()\n",
    "train_stats = all_stats[:,0:5]\n",
    "plt.plot(train_stats)\n",
    "plt.legend([\"MSE\", \"BCE\", \"GAN\", \"MMD\", \"HSIC\"])\n",
    "plt.xlabel('epoch')\n",
    "plt.show()"
   ]
  },
  {
   "cell_type": "code",
   "execution_count": 5,
   "metadata": {},
   "outputs": [
    {
     "data": {
      "image/png": "[encoded data removed]",
      "text/plain": [
       "<Figure size 432x288 with 1 Axes>"
      ]
     },
     "metadata": {
      "needs_background": "light"
     },
     "output_type": "display_data"
    }
   ],
   "source": [
    "test_stats = all_stats[:,5:]\n",
    "plt.plot(train_stats)\n",
    "plt.legend([\"MSE\", \"BCE\", \"GAN\", \"MMD\", \"HSIC\"])\n",
    "plt.xlabel('epoch')\n",
    "plt.show()"
   ]
  },
  {
   "cell_type": "markdown",
   "metadata": {},
   "source": [
    "## Model Load"
   ]
  },
  {
   "cell_type": "code",
   "execution_count": null,
   "metadata": {},
   "outputs": [],
   "source": [
    "mm.load('./%s' % (cfg['path_info']['save_path']))"
   ]
  },
  {
   "cell_type": "code",
   "execution_count": null,
   "metadata": {},
   "outputs": [],
   "source": [
    "batch_size = 100\n",
    "test_data = rmMNIST(cfg['path_info']['data_home2'], train = False, label = True)\n",
    "test_generator = torch.utils.data.DataLoader(test_data, batch_size, num_workers = 5, shuffle = False, pin_memory=True, drop_last=True)\n",
    "n = len(test_generator)"
   ]
  },
  {
   "cell_type": "code",
   "execution_count": null,
   "metadata": {},
   "outputs": [],
   "source": [
    "test_iter = iter(test_generator)\n",
    "encoded_label = np.zeros((n*batch_size, 2))\n",
    "true_label = np.zeros(n*batch_size)\n",
    "lab_t = torch.Tensor(range(10))\n",
    "for i in range(n):\n",
    "    img, lab = next(test_iter)\n",
    "    true_label[(i*batch_size):((i+1)*batch_size)] = (lab_t*lab).sum(dim=1).detach().numpy()\n",
    "    encoded_label[(i*batch_size):((i+1)*batch_size),:] = mm.encode_s(img.to(device))[:,0:2].to('cpu').detach().numpy()\n",
    "    \n",
    "# labeled_class = cfg['train_info']['labeled_class'].replace(' ', '').split(',')\n",
    "# labeled_class = [int(i) for i in labeled_class]\n",
    "test_class = cfg['train_info']['test_class'].replace(' ', '').split(',')\n",
    "test_class = [int(i) for i in test_class]"
   ]
  },
  {
   "cell_type": "markdown",
   "metadata": {},
   "source": [
    "## Label space(z_2) plot"
   ]
  },
  {
   "cell_type": "code",
   "execution_count": null,
   "metadata": {},
   "outputs": [],
   "source": [
    "nn = 15\n",
    "xx = []\n",
    "yy = []\n",
    "fig, ax = plt.subplots(figsize = (10.0, 10.0))\n",
    "for i in range(10):\n",
    "    target_d = encoded_label[true_label == i,:]\n",
    "    target = target_d[np.random.choice(target_d.shape[0], nn, replace = False),:]\n",
    "    xx.append(target[:,0])\n",
    "    yy.append(target[:,1])\n",
    "scatter1 = ax.scatter(np.concatenate(xx), np.concatenate(yy), c = np.repeat([int(i) for i in range(10)], nn), s = 40.0, cmap = 'Spectral')\n",
    "# dd = mm.enc_c(torch.Tensor(np.eye(len(labeled_class)).repeat(nn, axis = 0)).to(device)).to('cpu').detach().numpy()\n",
    "# scatter2 = ax.scatter(dd[:,0], dd[:,1], c = np.repeat(labeled_class, nn), s = 40.0, marker = 'x', cmap = 'Spectral')\n",
    "\n",
    "legend1 = ax.legend(*scatter1.legend_elements(), loc = 'lower right', title = \"Unlabeled\")\n",
    "# legend2 = ax.legend(*scatter2.legend_elements(), loc = 'upper right', title = \"Labeled\")\n",
    "ax.add_artist(legend1)\n",
    "# ax.add_artist(legend2)\n",
    "\n",
    "plt.show()"
   ]
  },
  {
   "cell_type": "markdown",
   "metadata": {},
   "source": [
    "## Test class Reconstruction"
   ]
  },
  {
   "cell_type": "code",
   "execution_count": null,
   "metadata": {},
   "outputs": [],
   "source": [
    "z = mm.encode_s(torch.cat([test_data[i][0] for i in target_d[0:16]]).unsqueeze(1).to(device))\n",
    "recon = mm.decode(z)"
   ]
  },
  {
   "cell_type": "code",
   "execution_count": null,
   "metadata": {},
   "outputs": [],
   "source": [
    "sample_data = []\n",
    "target_d = np.array(range(len(test_data)))[true_label == test_class[0]]\n",
    "\n",
    "for j in range(2):\n",
    "    sample_data.append(np.concatenate([test_data[i][0].numpy()[0,:,:] for i in target_d[(8*j):(8*(j+1))]], axis = 1))\n",
    "for j in range(2):\n",
    "    sample_data.append(np.concatenate([recon[i,0,:,:].detach().to('cpu').numpy() for i in range(8*j, 8*(j+1))], axis = 1))\n",
    "sample_data = np.concatenate(sample_data, axis = 0)"
   ]
  },
  {
   "cell_type": "code",
   "execution_count": null,
   "metadata": {},
   "outputs": [],
   "source": [
    "fig = plt.figure(figsize=(10.0,10.0))\n",
    "plt.imshow(sample_data, cmap = 'gray', vmin = -1.0, vmax = 1.0)\n",
    "plt.show()"
   ]
  },
  {
   "cell_type": "markdown",
   "metadata": {},
   "source": [
    "# Sample Generation"
   ]
  },
  {
   "cell_type": "code",
   "execution_count": null,
   "metadata": {},
   "outputs": [],
   "source": [
    "sample_label = []\n",
    "for i in range(10):\n",
    "    target_d = np.array(range(len(test_data)))[true_label == i]\n",
    "    sample_label.append(target_d[np.random.choice(target_d.shape[0], 1, replace = False)[0]])\n",
    "sample_data = np.array([test_data[i][0].numpy()[0,:,:] for i in sample_label])\n",
    "z = mm.encode_s(torch.Tensor(sample_data).unsqueeze(1).to(device))\n",
    "recon = mm.decode(z).squeeze(1).detach().to('cpu').numpy()"
   ]
  },
  {
   "cell_type": "code",
   "execution_count": null,
   "metadata": {},
   "outputs": [],
   "source": [
    "img_data = np.concatenate([np.concatenate(sample_data, axis = 1), np.concatenate(recon, axis = 1)], axis = 0)\n",
    "fig, ax = plt.subplots(figsize = (10.0, 10.0))\n",
    "ax.imshow(img_data, cmap = 'gray', vmin = -1.0, vmax = 1.0)\n",
    "plt.show()"
   ]
  },
  {
   "cell_type": "markdown",
   "metadata": {},
   "source": [
    "## 1. One-shot Exemplar Generation"
   ]
  },
  {
   "cell_type": "code",
   "execution_count": null,
   "metadata": {},
   "outputs": [],
   "source": [
    "exn = 5"
   ]
  },
  {
   "cell_type": "code",
   "execution_count": null,
   "metadata": {},
   "outputs": [],
   "source": [
    "zz = torch.cat((torch.zeros(1,6), gaus(exn,6)), dim = 0).to(device)\n",
    "new_z = torch.cat((z[:,:2].repeat_interleave(exn + 1, dim = 0), zz.repeat((10, 1))), dim = 1)\n",
    "new_x = mm.decode(new_z).squeeze(1).detach().to('cpu').numpy()"
   ]
  },
  {
   "cell_type": "code",
   "execution_count": null,
   "metadata": {},
   "outputs": [],
   "source": [
    "img_data = []\n",
    "for i in range(10):\n",
    "    img_data.append(np.concatenate([sample_data[i]] + [recon[i,:,:]] + [new_x[(exn+1)*i + j] for j in range(exn+1)], axis = 1))\n",
    "img_data = np.concatenate(img_data, axis = 0)"
   ]
  },
  {
   "cell_type": "code",
   "execution_count": null,
   "metadata": {},
   "outputs": [],
   "source": [
    "fig, ax = plt.subplots(figsize = (10.0, 10.0))\n",
    "ax.imshow(img_data, cmap = 'gray', vmin = -1.0, vmax = 1.0)\n",
    "plt.xlabel('style')\n",
    "plt.ylabel('class')\n",
    "plt.show()"
   ]
  },
  {
   "cell_type": "markdown",
   "metadata": {},
   "source": [
    "## 2. Style Transfer"
   ]
  },
  {
   "cell_type": "code",
   "execution_count": null,
   "metadata": {},
   "outputs": [],
   "source": [
    "new_z = torch.cat((z[:,:2].repeat_interleave(10, dim = 0), z[:,2:].repeat((10, 1))), dim = 1)\n",
    "new_x = mm.decode(new_z).squeeze(1).detach().to('cpu').numpy()"
   ]
  },
  {
   "cell_type": "code",
   "execution_count": null,
   "metadata": {},
   "outputs": [],
   "source": [
    "img_data = np.ones((28*11, 28*11))*-1\n",
    "img_data[:28,28:] = np.concatenate(sample_data, axis = 1)\n",
    "for i in range(10):\n",
    "    img_data[((i+1)*28):((i+2)*28),:28] = sample_data[i,:,:]\n",
    "    img_data[((i+1)*28):((i+2)*28),28:] = np.concatenate(new_x[(10*i):(10*(i+1)),:,:], axis = 1)"
   ]
  },
  {
   "cell_type": "code",
   "execution_count": null,
   "metadata": {},
   "outputs": [],
   "source": [
    "fig, ax = plt.subplots(figsize = (10.0, 10.0))\n",
    "ax.imshow(img_data, cmap = 'gray', vmin = -1.0, vmax = 1.0)\n",
    "plt.xlabel('style')\n",
    "plt.ylabel('class')\n",
    "plt.show()"
   ]
  },
  {
   "cell_type": "code",
   "execution_count": null,
   "metadata": {},
   "outputs": [],
   "source": []
  }
 ],
 "metadata": {
  "kernelspec": {
   "display_name": "torch",
   "language": "python",
   "name": "torch"
  },
  "language_info": {
   "codemirror_mode": {
    "name": "ipython",
    "version": 3
   },
   "file_extension": ".py",
   "mimetype": "text/x-python",
   "name": "python",
   "nbconvert_exporter": "python",
   "pygments_lexer": "ipython3",
   "version": "3.6.13"
  }
 },
 "nbformat": 4,
 "nbformat_minor": 4
}
