{
 "cells": [
  {
   "cell_type": "code",
   "execution_count": 1,
   "metadata": {},
   "outputs": [],
   "source": [
    "import os, sys, configparser, logging, argparse\n",
    "sys.path.append('/'.join(os.getcwd().split('/')[:-2]))\n",
    "\n",
    "import warnings\n",
    "warnings.filterwarnings(\"ignore\")\n",
    "os.environ['CUDA_VISIBLE_DEVICES']='2'\n",
    "\n",
    "import torch\n",
    "import torch.nn as nn\n",
    "import torch.optim as optim\n",
    "\n",
    "from XAE.dataset import rmMNIST\n",
    "from XAE.util import init_params\n",
    "from XAE.sampler import gaus"
   ]
  },
  {
   "cell_type": "code",
   "execution_count": 2,
   "metadata": {},
   "outputs": [],
   "source": [
    "is_cuda = torch.cuda.is_available()\n",
    "device = torch.device('cuda' if is_cuda else 'cpu')\n",
    "z_dim = 4\n",
    "\n",
    "d = 64\n",
    "embed_data = nn.Sequential(\n",
    "    nn.Conv2d(1, d, kernel_size = 4, stride = 2, padding = 1, bias = False),\n",
    "    nn.BatchNorm2d(d),\n",
    "    nn.ReLU(True),\n",
    "\n",
    "    nn.Conv2d(d, d, kernel_size = 4, padding = 'same', bias = False),\n",
    "    nn.BatchNorm2d(d),\n",
    "    nn.ReLU(True),\n",
    "\n",
    "    nn.Conv2d(d, 2*d, kernel_size = 4, stride = 2, padding = 1, bias = False),\n",
    "    nn.BatchNorm2d(2*d),\n",
    "    nn.ReLU(True),\n",
    "\n",
    "    nn.Conv2d(2*d, 2*d, kernel_size = 4, padding = 'same', bias = False),\n",
    "    nn.BatchNorm2d(2*d),\n",
    "    nn.ReLU(True),\n",
    "\n",
    "    nn.Flatten(),\n",
    ").to(device)\n",
    "\n",
    "embed_condition = nn.Sequential(\n",
    "    nn.Linear(49*2*d, d),\n",
    "    nn.BatchNorm1d(d),\n",
    "    nn.ReLU(True),\n",
    "    \n",
    "    nn.Linear(d, z_dim),\n",
    ").to(device)\n",
    "\n",
    "enc_activation = nn.Sequential(\n",
    "    nn.BatchNorm1d(z_dim),\n",
    "    nn.ReLU(True),\n",
    "    nn.Linear(z_dim, 10),\n",
    ").to(device)\n",
    "\n",
    "init_params(embed_data)\n",
    "init_params(embed_condition)\n",
    "init_params(enc_activation)"
   ]
  },
  {
   "cell_type": "code",
   "execution_count": 4,
   "metadata": {},
   "outputs": [],
   "source": [
    "labeled_class = [0,1,2,3,4,5,6,7,8,9]\n",
    "train_data = rmMNIST('/home/reddragon/data/MNIST', train = True, label = True, aux = [labeled_class, []], portion = 1.0)\n",
    "train_generator = torch.utils.data.DataLoader(train_data, 100, num_workers = 5, shuffle = True, pin_memory=True, drop_last=True)"
   ]
  },
  {
   "cell_type": "code",
   "execution_count": 5,
   "metadata": {},
   "outputs": [],
   "source": [
    "def kk(x, y, diag = True):\n",
    "    stat = 0.\n",
    "    for scale in [.1, .2, .5, 1., 2., 5., 10.]:\n",
    "        C = scale*2*z_dim*2\n",
    "        kernel = (C/(C + (x.unsqueeze(0) - y.unsqueeze(1)).pow(2).sum(dim = 2)))\n",
    "        if diag:\n",
    "            stat += kernel.sum()\n",
    "        else:\n",
    "            stat += kernel.sum() - kernel.diag().sum()\n",
    "    return stat"
   ]
  },
  {
   "cell_type": "code",
   "execution_count": 6,
   "metadata": {},
   "outputs": [
    {
     "name": "stdout",
     "output_type": "stream",
     "text": [
      "[1] loss: 1.673\n",
      "[2] loss: 0.655\n",
      "[3] loss: 0.263\n",
      "[4] loss: 0.129\n",
      "[5] loss: 0.077\n",
      "[6] loss: 0.051\n",
      "[7] loss: 0.038\n",
      "[8] loss: 0.024\n",
      "[9] loss: 0.018\n",
      "[10] loss: 0.016\n",
      "[11] loss: 0.013\n",
      "[12] loss: 0.011\n",
      "[13] loss: 0.010\n",
      "[14] loss: 0.009\n",
      "[15] loss: 0.008\n",
      "[16] loss: 0.006\n",
      "[17] loss: 0.004\n",
      "[18] loss: 0.005\n",
      "[19] loss: 0.006\n",
      "[20] loss: 0.005\n"
     ]
    }
   ],
   "source": [
    "epoch = 20\n",
    "opt = optim.Adam(list(embed_data.parameters()) + list(embed_condition.parameters()) + list(enc_activation.parameters()), lr = 1e-3, betas = (0.9, 0.999))\n",
    "crit = nn.CrossEntropyLoss()\n",
    "lamb = 1.0\n",
    "\n",
    "running_loss = 0.0\n",
    "for k in range(epoch):\n",
    "    for i, (data, condition) in enumerate(train_generator):\n",
    "        opt.zero_grad()\n",
    "        n = len(data)\n",
    "        x = data.to(device)\n",
    "        y = condition.to(device)\n",
    "        #z = gaus(n, z_dim, device)\n",
    "        \n",
    "        xx = embed_condition(embed_data(x))\n",
    "        output = enc_activation(xx)\n",
    "#         mmd = (kk(xx,xx, False) + kk(z,z, False))/(n*(n-1)) - 2*kk(xx,z, True)/(n*n)\n",
    "        loss = crit(output, y) #+ lamb * mmd\n",
    "        loss.backward()\n",
    "        opt.step()\n",
    "        running_loss += loss.item()\n",
    "        \n",
    "    print('[%d] loss: %.3f' % (k + 1, running_loss / len(train_generator)))\n",
    "    running_loss = 0.0"
   ]
  },
  {
   "cell_type": "code",
   "execution_count": 117,
   "metadata": {},
   "outputs": [],
   "source": [
    "torch.save(embed_data.state_dict(), 'embed_data_weight.pt')\n",
    "torch.save(embed_condition.state_dict(), 'embed_condition_weight.pt')"
   ]
  },
  {
   "cell_type": "code",
   "execution_count": 3,
   "metadata": {},
   "outputs": [
    {
     "data": {
      "text/plain": [
       "<All keys matched successfully>"
      ]
     },
     "execution_count": 3,
     "metadata": {},
     "output_type": "execute_result"
    }
   ],
   "source": [
    "embed_data.load_state_dict(torch.load('embed_data_weight.pt'))\n",
    "embed_condition.load_state_dict(torch.load('embed_condition_weight.pt'))"
   ]
  },
  {
   "cell_type": "code",
   "execution_count": 4,
   "metadata": {},
   "outputs": [],
   "source": [
    "import numpy as np"
   ]
  },
  {
   "cell_type": "code",
   "execution_count": 9,
   "metadata": {},
   "outputs": [],
   "source": [
    "from XAE.dataset import MNIST\n",
    "batch_size = 100\n",
    "test_data = MNIST('/home/reddragon/data/MNIST', train = False, label = True)\n",
    "test_generator = torch.utils.data.DataLoader(test_data, batch_size, num_workers = 5, shuffle = False, pin_memory=True, drop_last=True)\n",
    "n = len(test_generator)"
   ]
  },
  {
   "cell_type": "code",
   "execution_count": 10,
   "metadata": {},
   "outputs": [
    {
     "data": {
      "text/plain": [
       "torch.Size([100, 4])"
      ]
     },
     "execution_count": 10,
     "metadata": {},
     "output_type": "execute_result"
    }
   ],
   "source": [
    "a, b = next(iter(test_generator))\n",
    "embed_condition(embed_data(a.to(device))).shape"
   ]
  },
  {
   "cell_type": "code",
   "execution_count": 11,
   "metadata": {},
   "outputs": [],
   "source": [
    "f1 = np.zeros((0, 10))\n",
    "f2 = np.zeros((0, 4))"
   ]
  },
  {
   "cell_type": "code",
   "execution_count": 12,
   "metadata": {},
   "outputs": [],
   "source": [
    "i = 0\n",
    "for a, b in test_generator:\n",
    "    f1x = b.to('cpu').detach().numpy()\n",
    "    f2x = embed_condition(embed_data(a.to(device))).to('cpu').detach().numpy()\n",
    "    f1 = np.concatenate((f1, f1x), axis = 0)\n",
    "    f2 = np.concatenate((f2, f2x), axis = 0)\n",
    "    i += 1\n",
    "    if i == 5:\n",
    "        break"
   ]
  },
  {
   "cell_type": "code",
   "execution_count": 13,
   "metadata": {},
   "outputs": [],
   "source": [
    "digit = np.arange(10)\n",
    "lab = [digit[l.astype(np.bool_)] for l in f1]\n",
    "lab = np.concatenate(lab)"
   ]
  },
  {
   "cell_type": "code",
   "execution_count": 14,
   "metadata": {},
   "outputs": [],
   "source": [
    "from sklearn.manifold import TSNE\n",
    "tsne = TSNE(n_components=2, random_state=0)\n",
    "X_2d = tsne.fit_transform(f2)"
   ]
  },
  {
   "cell_type": "code",
   "execution_count": 15,
   "metadata": {},
   "outputs": [
    {
     "data": {
      "image/png": "[encoded data removed]",
      "text/plain": [
       "<Figure size 432x360 with 1 Axes>"
      ]
     },
     "metadata": {
      "needs_background": "light"
     },
     "output_type": "display_data"
    }
   ],
   "source": [
    "target_ids = range(10)\n",
    "\n",
    "from matplotlib import pyplot as plt\n",
    "plt.figure(figsize=(6, 5))\n",
    "colors = 'r', 'g', 'b', 'c', 'm', 'y', 'k', 'lime', 'orange', 'purple'\n",
    "for i, c in zip(target_ids, colors):\n",
    "    plt.scatter(X_2d[lab == i, 0], X_2d[lab == i, 1], c=c, label=str(i))\n",
    "plt.legend()\n",
    "plt.show()"
   ]
  },
  {
   "cell_type": "code",
   "execution_count": 16,
   "metadata": {},
   "outputs": [
    {
     "data": {
      "image/png": "[encoded data removed]",
      "text/plain": [
       "<Figure size 432x360 with 1 Axes>"
      ]
     },
     "metadata": {
      "needs_background": "light"
     },
     "output_type": "display_data"
    }
   ],
   "source": [
    "target_ids = range(10)\n",
    "\n",
    "from matplotlib import pyplot as plt\n",
    "plt.figure(figsize=(6, 5))\n",
    "colors = 'r', 'g', 'b', 'c', 'm', 'y', 'k', 'lime', 'orange', 'purple'\n",
    "for i, c in zip(target_ids, colors):\n",
    "    plt.scatter(f2[lab == i, 0], f2[lab == i, 2], c=c, label=str(i))\n",
    "plt.legend()\n",
    "plt.show()"
   ]
  },
  {
   "cell_type": "code",
   "execution_count": null,
   "metadata": {},
   "outputs": [],
   "source": [
    "for i in range(5):\n",
    "    a, b = next(iter(test_generator))\n",
    "    embed_condition(embed_data(a.to(device))).shape"
   ]
  },
  {
   "cell_type": "code",
   "execution_count": 8,
   "metadata": {},
   "outputs": [],
   "source": [
    "labeled_class = [0,1,2,3,4,5,6,7,8,9]\n",
    "train_data = rmMNIST('/home/reddragon/data/MNIST', train = True, label = True, aux = [labeled_class, []], portion = 1.0, class_no = True)\n",
    "train_generator = torch.utils.data.DataLoader(train_data, 100, num_workers = 5, shuffle = True, pin_memory=True, drop_last=True)"
   ]
  },
  {
   "cell_type": "code",
   "execution_count": 9,
   "metadata": {},
   "outputs": [],
   "source": [
    "zs = np.zeros((10, z_dim))\n",
    "cs = np.zeros(10)"
   ]
  },
  {
   "cell_type": "code",
   "execution_count": 10,
   "metadata": {},
   "outputs": [],
   "source": [
    "for data, condition in train_generator:\n",
    "    n = len(data)\n",
    "    x = data.to(device)\n",
    "    y = condition.to(device)\n",
    "    z = embed_condition(embed_data(x))\n",
    "    \n",
    "    labs, idxs, counts = y.unique(dim = 0, return_inverse = True, return_counts = True)\n",
    "    idxs = labs[idxs].view(n,1).expand(-1, z_dim)\n",
    "    cc = torch.zeros((10, z_dim), dtype = torch.float).to(device).scatter_add_(0, idxs, z)\n",
    "    zs += cc.detach().to('cpu').numpy()\n",
    "    cs += counts[labs].detach().to('cpu').numpy()"
   ]
  },
  {
   "cell_type": "code",
   "execution_count": 19,
   "metadata": {},
   "outputs": [
    {
     "data": {
      "text/plain": [
       "tensor([[ 0.5737, -0.1650, -0.1574, -0.2385,  0.3683,  0.0229, -0.2029,  0.2337,\n",
       "         -0.2031,  0.3703],\n",
       "        [-0.2053,  0.3506, -0.1765,  0.3934,  0.3973, -0.1349,  0.2740, -0.0954,\n",
       "         -0.1702,  0.3613],\n",
       "        [ 0.3207,  0.2618,  0.4350, -0.2106,  0.2585, -0.1697,  0.3638,  0.3000,\n",
       "         -0.2340, -0.1708],\n",
       "        [-0.2444,  0.4899, -0.0479, -0.0116, -0.1235, -0.1772, -0.2298,  0.5017,\n",
       "          0.4539,  0.4427]])"
      ]
     },
     "execution_count": 19,
     "metadata": {},
     "output_type": "execute_result"
    }
   ],
   "source": [
    "w = torch.Tensor(zs.transpose()/cs)\n",
    "w"
   ]
  },
  {
   "cell_type": "code",
   "execution_count": 29,
   "metadata": {},
   "outputs": [],
   "source": [
    "f1 = nn.Linear(10, z_dim, bias = False)\n",
    "f1.weight.data = w"
   ]
  },
  {
   "cell_type": "code",
   "execution_count": 35,
   "metadata": {},
   "outputs": [],
   "source": [
    "torch.save(f1.state_dict(), 'f1.pt')"
   ]
  }
 ],
 "metadata": {
  "kernelspec": {
   "display_name": "torch",
   "language": "python",
   "name": "torch"
  },
  "language_info": {
   "codemirror_mode": {
    "name": "ipython",
    "version": 3
   },
   "file_extension": ".py",
   "mimetype": "text/x-python",
   "name": "python",
   "nbconvert_exporter": "python",
   "pygments_lexer": "ipython3",
   "version": "3.6.13"
  }
 },
 "nbformat": 4,
 "nbformat_minor": 4
}
