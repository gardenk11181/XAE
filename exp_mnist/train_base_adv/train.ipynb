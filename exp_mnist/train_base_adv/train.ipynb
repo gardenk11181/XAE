{
 "cells": [
  {
   "cell_type": "code",
   "execution_count": 1,
   "metadata": {},
   "outputs": [],
   "source": [
    "import os, sys, logging, configparser\n",
    "sys.path.append('/'.join(os.getcwd().split('/')[:-2]))\n",
    "import warnings\n",
    "warnings.filterwarnings(\"ignore\")\n",
    "os.environ['CUDA_VISIBLE_DEVICES']='1'\n",
    "import torch\n",
    "from train import WAE_GAN_MNIST\n",
    "from XAE.logging_daily import logging_daily"
   ]
  },
  {
   "cell_type": "code",
   "execution_count": 2,
   "metadata": {},
   "outputs": [
    {
     "data": {
      "text/plain": [
       "['./config/train_config.cfg']"
      ]
     },
     "execution_count": 2,
     "metadata": {},
     "output_type": "execute_result"
    }
   ],
   "source": [
    "is_cuda = torch.cuda.is_available()\n",
    "device = torch.device('cuda' if is_cuda else 'cpu')\n",
    "\n",
    "logger = logging_daily('./config/log_info.yaml')\n",
    "log = logger.get_logging()\n",
    "log.setLevel(logging.INFO)\n",
    "\n",
    "cfg = configparser.ConfigParser()\n",
    "cfg.read('./config/train_config.cfg')"
   ]
  },
  {
   "cell_type": "code",
   "execution_count": 3,
   "metadata": {},
   "outputs": [
    {
     "name": "stderr",
     "output_type": "stream",
     "text": [
      "[default |INFO|_base_model.py:26] ------------------------------------------------------------\n",
      "[default |INFO|_base_model.py:28] model_name : WAE_GAN_MNIST\n",
      "[default |INFO|_base_model.py:28] train_data : MNIST\n",
      "[default |INFO|_base_model.py:28] z_sampler : gaus\n",
      "[default |INFO|_base_model.py:28] z_dim : 8\n",
      "[default |INFO|_base_model.py:28] prob_enc : False\n",
      "[default |INFO|_base_model.py:28] encoder_pretrain : False\n",
      "[default |INFO|_base_model.py:28] encoder_pretrain_batch_size : 1000\n",
      "[default |INFO|_base_model.py:28] encoder_pretrain_max_step : 200\n",
      "[default |INFO|_base_model.py:28] lr : 1e-3\n",
      "[default |INFO|_base_model.py:28] beta1 : 0.5\n",
      "[default |INFO|_base_model.py:28] lr_adv : 5e-4\n",
      "[default |INFO|_base_model.py:28] beta1_adv : 0.5\n",
      "[default |INFO|_base_model.py:28] lambda : 10.0\n",
      "[default |INFO|_base_model.py:28] lr_schedule : manual\n",
      "[default |INFO|_base_model.py:28] validate : True\n",
      "[default |INFO|_base_model.py:28] histogram : True\n",
      "[default |INFO|_base_model.py:28] batch_size : 100\n",
      "[default |INFO|_base_model.py:28] epoch : 10\n",
      "[default |INFO|_base_model.py:28] replace : True\n",
      "[default |INFO|_base_model.py:28] iter_per_epoch : 100\n",
      "[default |INFO|_base_model.py:28] save_best : False\n",
      "[default |INFO|_base_model.py:31] data_home : /home/reddragon/data/MNIST\n",
      "[default |INFO|_base_model.py:31] tb_logs : ../tb_logs/train_base_adv\n",
      "[default |INFO|_base_model.py:31] save_path : ./weight.pt\n",
      "[default |INFO|_base_model.py:31] save_state : ./state.pt\n",
      "[default |INFO|_base_model.py:31] save_img_path : ./plots\n",
      "[default |INFO|_base_model.py:401] ------------------------------------------------------------\n",
      "[default |INFO|_base_model.py:402] Training Start!\n"
     ]
    },
    {
     "name": "stdout",
     "output_type": "stream",
     "text": [
      "[95/100]\ttest_mse: 0.2363\ttest_penalty: 0.8207471\r"
     ]
    },
    {
     "name": "stderr",
     "output_type": "stream",
     "text": [
      "[default |INFO|_base_model.py:483] [1/10]\ttrain_mse: 3.079994e-01\ttrain_penalty: 7.471079e-01\ttest_mse: 2.363090e-01\ttest_penalty: 8.206547e-01\n"
     ]
    },
    {
     "name": "stdout",
     "output_type": "stream",
     "text": [
      "[95/100]\ttest_mse: 0.2416\ttest_penalty: 1.1101911\r"
     ]
    },
    {
     "name": "stderr",
     "output_type": "stream",
     "text": [
      "[default |INFO|_base_model.py:483] [2/10]\ttrain_mse: 2.443407e-01\ttrain_penalty: 9.910741e-01\ttest_mse: 2.414315e-01\ttest_penalty: 1.110456e+00\n"
     ]
    },
    {
     "name": "stdout",
     "output_type": "stream",
     "text": [
      "[95/100]\ttest_mse: 0.2368\ttest_penalty: 1.4523051\r"
     ]
    },
    {
     "name": "stderr",
     "output_type": "stream",
     "text": [
      "[default |INFO|_base_model.py:483] [3/10]\ttrain_mse: 2.327468e-01\ttrain_penalty: 1.305125e+00\ttest_mse: 2.368674e-01\ttest_penalty: 1.454577e+00\n"
     ]
    },
    {
     "name": "stdout",
     "output_type": "stream",
     "text": [
      "[95/100]\ttest_mse: 0.2165\ttest_penalty: 1.8534941\r"
     ]
    },
    {
     "name": "stderr",
     "output_type": "stream",
     "text": [
      "[default |INFO|_base_model.py:483] [4/10]\ttrain_mse: 2.225820e-01\ttrain_penalty: 1.694064e+00\ttest_mse: 2.162482e-01\ttest_penalty: 1.856472e+00\n"
     ]
    },
    {
     "name": "stdout",
     "output_type": "stream",
     "text": [
      "[90/100]\ttest_mse: 0.2072\ttest_penalty: 2.1333384\r"
     ]
    },
    {
     "name": "stderr",
     "output_type": "stream",
     "text": [
      "[default |INFO|_base_model.py:483] [5/10]\ttrain_mse: 2.128074e-01\ttrain_penalty: 2.038394e+00\ttest_mse: 2.071626e-01\ttest_penalty: 2.128931e+00\n"
     ]
    },
    {
     "name": "stdout",
     "output_type": "stream",
     "text": [
      "[94/100]\ttest_mse: 0.2401\ttest_penalty: 2.4518428\r"
     ]
    },
    {
     "name": "stderr",
     "output_type": "stream",
     "text": [
      "[default |INFO|_base_model.py:483] [6/10]\ttrain_mse: 2.183049e-01\ttrain_penalty: 2.342792e+00\ttest_mse: 2.400249e-01\ttest_penalty: 2.452458e+00\n"
     ]
    },
    {
     "name": "stdout",
     "output_type": "stream",
     "text": [
      "[95/100]\ttest_mse: 0.2446\ttest_penalty: 1.8683636\r"
     ]
    },
    {
     "name": "stderr",
     "output_type": "stream",
     "text": [
      "[default |INFO|_base_model.py:483] [7/10]\ttrain_mse: 2.428553e-01\ttrain_penalty: 2.263552e+00\ttest_mse: 2.446926e-01\ttest_penalty: 1.867271e+00\n"
     ]
    },
    {
     "name": "stdout",
     "output_type": "stream",
     "text": [
      "[95/100]\ttest_mse: 0.1947\ttest_penalty: 0.7645485\r"
     ]
    },
    {
     "name": "stderr",
     "output_type": "stream",
     "text": [
      "[default |INFO|_base_model.py:483] [8/10]\ttrain_mse: 2.233979e-01\ttrain_penalty: 1.348451e+00\ttest_mse: 1.946107e-01\ttest_penalty: 7.658260e-01\n"
     ]
    },
    {
     "name": "stdout",
     "output_type": "stream",
     "text": [
      "[93/100]\ttest_mse: 0.1811\ttest_penalty: 0.7977863\r"
     ]
    },
    {
     "name": "stderr",
     "output_type": "stream",
     "text": [
      "[default |INFO|_base_model.py:483] [9/10]\ttrain_mse: 1.875352e-01\ttrain_penalty: 8.863393e-01\ttest_mse: 1.812031e-01\ttest_penalty: 7.980197e-01\n"
     ]
    },
    {
     "name": "stdout",
     "output_type": "stream",
     "text": [
      "[93/100]\ttest_mse: 0.1877\ttest_penalty: 0.7827265\r"
     ]
    },
    {
     "name": "stderr",
     "output_type": "stream",
     "text": [
      "[default |INFO|_base_model.py:483] [10/10]\ttrain_mse: 1.849475e-01\ttrain_penalty: 8.265186e-01\ttest_mse: 1.879537e-01\ttest_penalty: 7.819065e-01\n"
     ]
    },
    {
     "name": "stdout",
     "output_type": "stream",
     "text": [
      "[99/100]\ttest_mse: 0.1880\ttest_penalty: 0.7819\r"
     ]
    },
    {
     "name": "stderr",
     "output_type": "stream",
     "text": [
      "[default |INFO|_base_model.py:551] Training Finished!\n",
      "[default |INFO|_base_model.py:552] Elapsed time: 133.555s\n"
     ]
    }
   ],
   "source": [
    "model = WAE_GAN_MNIST(cfg, log, device = device)\n",
    "model.train()\n",
    "# model.train(resume = True)"
   ]
  }
 ],
 "metadata": {
  "interpreter": {
   "hash": "d77abe1f91c93046f1735f3da40ae4cbc8fa8253ee46f96b7b2c304a8ef5c243"
  },
  "kernelspec": {
   "display_name": "torch",
   "language": "python",
   "name": "torch"
  },
  "language_info": {
   "codemirror_mode": {
    "name": "ipython",
    "version": 3
   },
   "file_extension": ".py",
   "mimetype": "text/x-python",
   "name": "python",
   "nbconvert_exporter": "python",
   "pygments_lexer": "ipython3",
   "version": "3.6.13"
  }
 },
 "nbformat": 4,
 "nbformat_minor": 4
}
